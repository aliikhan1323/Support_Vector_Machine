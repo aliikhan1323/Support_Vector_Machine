{
 "cells": [
  {
   "cell_type": "markdown",
   "id": "f18d6128",
   "metadata": {},
   "source": [
    "## 🧩  Import Required Libraries\n",
    "In this step, we import all the essential Python libraries needed for data handling, visualization, model training, and evaluation.\n",
    "- os, sys → to manage file paths and system info\n",
    "- numpy, pandas → for numerical computations and data manipulation\n",
    "- matplotlib.pyplot → for visualizing handwritten digits\n",
    "- scikit-learn (sklearn) → for splitting data, training SVM models, and evaluating performance\n",
    "- joblib → for saving trained models for later use\n",
    "- warnings → to suppress unnecessary warnings for a cleaner output"
   ]
  },
  {
   "cell_type": "code",
   "execution_count": 26,
   "id": "36b3944d",
   "metadata": {},
   "outputs": [
    {
     "name": "stdout",
     "output_type": "stream",
     "text": [
      "Python: 3.10.0 (tags/v3.10.0:b494f59, Oct  4 2021, 19:00:18) [MSC v.1929 64 bit (AMD64)]\n",
      "Working dir: f:\\AI_ML Course\\Machine Learning Algo\\Support_Vector_Machine(SVM)\n"
     ]
    }
   ],
   "source": [
    "# Imports\n",
    "import os\n",
    "import sys\n",
    "import numpy as np\n",
    "import pandas as pd\n",
    "import matplotlib.pyplot as plt\n",
    "from sklearn.model_selection import train_test_split, GridSearchCV\n",
    "from sklearn.svm import SVC, LinearSVC\n",
    "from sklearn.metrics import accuracy_score, classification_report\n",
    "import joblib\n",
    "import warnings\n",
    "warnings.filterwarnings('ignore')\n",
    "\n",
    "print('Python:', sys.version.splitlines()[0])\n",
    "print('Working dir:', os.getcwd())\n"
   ]
  },
  {
   "cell_type": "markdown",
   "id": "d90e973e",
   "metadata": {},
   "source": [
    "## 📂 Verify Dataset Files\n",
    "Before proceeding, it’s important to ensure that the required dataset files are present in the working directory.\n",
    "- This code checks for the presence of train.csv and test.csv files.\n",
    "- If train.csv is missing, it raises an error reminding you to download it from Kaggle (Digit Recognizer dataset) and place it in the same directory as your notebook."
   ]
  },
  {
   "cell_type": "code",
   "execution_count": 25,
   "id": "ec5e6528",
   "metadata": {},
   "outputs": [
    {
     "name": "stdout",
     "output_type": "stream",
     "text": [
      "train.csv FOUND\n",
      "test.csv FOUND\n"
     ]
    }
   ],
   "source": [
    "# Check files\n",
    "for f in ['train.csv', 'test.csv']:\n",
    "    print(f, 'FOUND' if os.path.exists(f) else 'MISSING')\n",
    "\n",
    "if not os.path.exists('train.csv'):\n",
    "    raise FileNotFoundError('train.csv not found. Download it from Kaggle and place it here before running.')\n"
   ]
  },
  {
   "cell_type": "markdown",
   "id": "0fd0f6f0",
   "metadata": {},
   "source": [
    "## 🧮 Load the Dataset\n",
    "Now that we’ve verified the dataset files, we can load them into our environment using Pandas.\n",
    "- train.csv → contains 42,000 labeled images (digits 0–9).\n",
    "- test.csv → contains 28,000 unlabeled images used for prediction and Kaggle submission."
   ]
  },
  {
   "cell_type": "code",
   "execution_count": 1,
   "id": "05a6c89f",
   "metadata": {},
   "outputs": [
    {
     "name": "stdout",
     "output_type": "stream",
     "text": [
      "Train shape: (42000, 785)\n",
      "Test shape: (28000, 784)\n"
     ]
    },
    {
     "data": {
      "text/html": [
       "<div>\n",
       "<style scoped>\n",
       "    .dataframe tbody tr th:only-of-type {\n",
       "        vertical-align: middle;\n",
       "    }\n",
       "\n",
       "    .dataframe tbody tr th {\n",
       "        vertical-align: top;\n",
       "    }\n",
       "\n",
       "    .dataframe thead th {\n",
       "        text-align: right;\n",
       "    }\n",
       "</style>\n",
       "<table border=\"1\" class=\"dataframe\">\n",
       "  <thead>\n",
       "    <tr style=\"text-align: right;\">\n",
       "      <th></th>\n",
       "      <th>label</th>\n",
       "      <th>pixel0</th>\n",
       "      <th>pixel1</th>\n",
       "      <th>pixel2</th>\n",
       "      <th>pixel3</th>\n",
       "      <th>pixel4</th>\n",
       "      <th>pixel5</th>\n",
       "      <th>pixel6</th>\n",
       "      <th>pixel7</th>\n",
       "      <th>pixel8</th>\n",
       "      <th>...</th>\n",
       "      <th>pixel774</th>\n",
       "      <th>pixel775</th>\n",
       "      <th>pixel776</th>\n",
       "      <th>pixel777</th>\n",
       "      <th>pixel778</th>\n",
       "      <th>pixel779</th>\n",
       "      <th>pixel780</th>\n",
       "      <th>pixel781</th>\n",
       "      <th>pixel782</th>\n",
       "      <th>pixel783</th>\n",
       "    </tr>\n",
       "  </thead>\n",
       "  <tbody>\n",
       "    <tr>\n",
       "      <th>0</th>\n",
       "      <td>1</td>\n",
       "      <td>0</td>\n",
       "      <td>0</td>\n",
       "      <td>0</td>\n",
       "      <td>0</td>\n",
       "      <td>0</td>\n",
       "      <td>0</td>\n",
       "      <td>0</td>\n",
       "      <td>0</td>\n",
       "      <td>0</td>\n",
       "      <td>...</td>\n",
       "      <td>0</td>\n",
       "      <td>0</td>\n",
       "      <td>0</td>\n",
       "      <td>0</td>\n",
       "      <td>0</td>\n",
       "      <td>0</td>\n",
       "      <td>0</td>\n",
       "      <td>0</td>\n",
       "      <td>0</td>\n",
       "      <td>0</td>\n",
       "    </tr>\n",
       "    <tr>\n",
       "      <th>1</th>\n",
       "      <td>0</td>\n",
       "      <td>0</td>\n",
       "      <td>0</td>\n",
       "      <td>0</td>\n",
       "      <td>0</td>\n",
       "      <td>0</td>\n",
       "      <td>0</td>\n",
       "      <td>0</td>\n",
       "      <td>0</td>\n",
       "      <td>0</td>\n",
       "      <td>...</td>\n",
       "      <td>0</td>\n",
       "      <td>0</td>\n",
       "      <td>0</td>\n",
       "      <td>0</td>\n",
       "      <td>0</td>\n",
       "      <td>0</td>\n",
       "      <td>0</td>\n",
       "      <td>0</td>\n",
       "      <td>0</td>\n",
       "      <td>0</td>\n",
       "    </tr>\n",
       "    <tr>\n",
       "      <th>2</th>\n",
       "      <td>1</td>\n",
       "      <td>0</td>\n",
       "      <td>0</td>\n",
       "      <td>0</td>\n",
       "      <td>0</td>\n",
       "      <td>0</td>\n",
       "      <td>0</td>\n",
       "      <td>0</td>\n",
       "      <td>0</td>\n",
       "      <td>0</td>\n",
       "      <td>...</td>\n",
       "      <td>0</td>\n",
       "      <td>0</td>\n",
       "      <td>0</td>\n",
       "      <td>0</td>\n",
       "      <td>0</td>\n",
       "      <td>0</td>\n",
       "      <td>0</td>\n",
       "      <td>0</td>\n",
       "      <td>0</td>\n",
       "      <td>0</td>\n",
       "    </tr>\n",
       "    <tr>\n",
       "      <th>3</th>\n",
       "      <td>4</td>\n",
       "      <td>0</td>\n",
       "      <td>0</td>\n",
       "      <td>0</td>\n",
       "      <td>0</td>\n",
       "      <td>0</td>\n",
       "      <td>0</td>\n",
       "      <td>0</td>\n",
       "      <td>0</td>\n",
       "      <td>0</td>\n",
       "      <td>...</td>\n",
       "      <td>0</td>\n",
       "      <td>0</td>\n",
       "      <td>0</td>\n",
       "      <td>0</td>\n",
       "      <td>0</td>\n",
       "      <td>0</td>\n",
       "      <td>0</td>\n",
       "      <td>0</td>\n",
       "      <td>0</td>\n",
       "      <td>0</td>\n",
       "    </tr>\n",
       "    <tr>\n",
       "      <th>4</th>\n",
       "      <td>0</td>\n",
       "      <td>0</td>\n",
       "      <td>0</td>\n",
       "      <td>0</td>\n",
       "      <td>0</td>\n",
       "      <td>0</td>\n",
       "      <td>0</td>\n",
       "      <td>0</td>\n",
       "      <td>0</td>\n",
       "      <td>0</td>\n",
       "      <td>...</td>\n",
       "      <td>0</td>\n",
       "      <td>0</td>\n",
       "      <td>0</td>\n",
       "      <td>0</td>\n",
       "      <td>0</td>\n",
       "      <td>0</td>\n",
       "      <td>0</td>\n",
       "      <td>0</td>\n",
       "      <td>0</td>\n",
       "      <td>0</td>\n",
       "    </tr>\n",
       "  </tbody>\n",
       "</table>\n",
       "<p>5 rows × 785 columns</p>\n",
       "</div>"
      ],
      "text/plain": [
       "   label  pixel0  pixel1  pixel2  pixel3  pixel4  pixel5  pixel6  pixel7  \\\n",
       "0      1       0       0       0       0       0       0       0       0   \n",
       "1      0       0       0       0       0       0       0       0       0   \n",
       "2      1       0       0       0       0       0       0       0       0   \n",
       "3      4       0       0       0       0       0       0       0       0   \n",
       "4      0       0       0       0       0       0       0       0       0   \n",
       "\n",
       "   pixel8  ...  pixel774  pixel775  pixel776  pixel777  pixel778  pixel779  \\\n",
       "0       0  ...         0         0         0         0         0         0   \n",
       "1       0  ...         0         0         0         0         0         0   \n",
       "2       0  ...         0         0         0         0         0         0   \n",
       "3       0  ...         0         0         0         0         0         0   \n",
       "4       0  ...         0         0         0         0         0         0   \n",
       "\n",
       "   pixel780  pixel781  pixel782  pixel783  \n",
       "0         0         0         0         0  \n",
       "1         0         0         0         0  \n",
       "2         0         0         0         0  \n",
       "3         0         0         0         0  \n",
       "4         0         0         0         0  \n",
       "\n",
       "[5 rows x 785 columns]"
      ]
     },
     "execution_count": 1,
     "metadata": {},
     "output_type": "execute_result"
    }
   ],
   "source": [
    "import pandas as pd\n",
    "\n",
    "train = pd.read_csv(\"train.csv\")\n",
    "test = pd.read_csv(\"test.csv\")\n",
    "\n",
    "print(\"Train shape:\", train.shape)\n",
    "print(\"Test shape:\", test.shape)\n",
    "train.head()\n"
   ]
  },
  {
   "cell_type": "markdown",
   "id": "7018c96f",
   "metadata": {},
   "source": [
    "## 🔧 Step 4: Separate Features and Labels\n",
    "Each image in the dataset is represented by 784 pixel values (28×28 image).\n",
    "The label column indicates which digit (0–9) the image represents.\n",
    "- X → feature matrix containing pixel values only.\n",
    "- y → target vector containing digit labels."
   ]
  },
  {
   "cell_type": "code",
   "execution_count": 22,
   "id": "4f391823",
   "metadata": {},
   "outputs": [
    {
     "name": "stdout",
     "output_type": "stream",
     "text": [
      "X shape: (42000, 784) y shape: (42000,)\n"
     ]
    }
   ],
   "source": [
    "# Prepare features & labels\n",
    "X = train.drop('label', axis=1)\n",
    "y = train['label']\n",
    "print('X shape:', X.shape, 'y shape:', y.shape)\n"
   ]
  },
  {
   "cell_type": "markdown",
   "id": "ccc0a162",
   "metadata": {},
   "source": [
    "## 🎨 Visualize Sample Digits\n",
    "Before training the model, it’s helpful to visualize a few handwritten digits from the dataset to understand how the data looks.\n",
    "- The loop displays the first 10 images from the training data.\n",
    "- Each image is reshaped from a 1D array of 784 pixels to a 28×28 grid.\n",
    "- The grayscale (cmap='gray') color map is used for clarity.\n",
    "- Each subplot title shows the true label of the corresponding digit."
   ]
  },
  {
   "cell_type": "code",
   "execution_count": 27,
   "id": "9a954dc0",
   "metadata": {},
   "outputs": [
    {
     "data": {
      "image/png": "[encoded data removed]",
      "text/plain": [
       "<Figure size 800x400 with 10 Axes>"
      ]
     },
     "metadata": {},
     "output_type": "display_data"
    }
   ],
   "source": [
    "\n",
    "\n",
    "plt.figure(figsize=(8, 4))\n",
    "for i in range(10):\n",
    "    plt.subplot(2, 5, i+1)\n",
    "    plt.imshow(X.iloc[i].values.reshape(28, 28), cmap='gray')\n",
    "    plt.title(f\"Label: {y.iloc[i]}\")\n",
    "    plt.axis('off')\n",
    "plt.show()\n"
   ]
  },
  {
   "cell_type": "markdown",
   "id": "3b9e268f",
   "metadata": {},
   "source": [
    "## 🔢 Normalize Data\n",
    "Each pixel in your digit image has a value between 0 and 255.\n",
    "* 0 → black (no intensity)\n",
    "* 255 → white (full intensity)\n",
    "\n",
    "When we divide by 255.0, we scale all pixel values to a range between 0 and 1."
   ]
  },
  {
   "cell_type": "code",
   "execution_count": 23,
   "id": "d77aa54f",
   "metadata": {},
   "outputs": [
    {
     "name": "stdout",
     "output_type": "stream",
     "text": [
      "Min/max of first row: 0.0 1.0\n"
     ]
    }
   ],
   "source": [
    "# Normalize\n",
    "X_scaled = X / 255.0\n",
    "print('Min/max of first row:', X_scaled.iloc[0].min(), X_scaled.iloc[0].max())\n"
   ]
  },
  {
   "cell_type": "markdown",
   "id": "5d7cbf96",
   "metadata": {},
   "source": [
    "## 🔀 Split the Data into Training and Validation Sets\n",
    "To evaluate the model’s performance effectively, we divide the dataset into training and validation subsets.\n",
    "- train_test_split() from scikit-learn is used for this purpose.\n",
    "- test_size=0.2 → 20% of the data is reserved for validation.\n",
    "- random_state=42 → ensures reproducibility (same split every run).\n",
    "- stratify=y → maintains the same proportion of digit classes (0–9) in both sets."
   ]
  },
  {
   "cell_type": "code",
   "execution_count": 24,
   "id": "e465e34c",
   "metadata": {},
   "outputs": [
    {
     "name": "stdout",
     "output_type": "stream",
     "text": [
      "Train: (33600, 784) Val: (8400, 784)\n"
     ]
    }
   ],
   "source": [
    "# Split\n",
    "X_train, X_val, y_train, y_val = train_test_split(X_scaled, y, test_size=0.2, random_state=42, stratify=y)\n",
    "print('Train:', X_train.shape, 'Val:', X_val.shape)\n"
   ]
  },
  {
   "cell_type": "markdown",
   "id": "c2c82f13",
   "metadata": {},
   "source": [
    "## 🧠 Train the SVM Model (Linear Kernel)\n",
    "Now we train a Support Vector Machine (SVM) classifier using a linear kernel.\n",
    "- SVC(kernel='linear') → uses a linear decision boundary, suitable for datasets that are mostly linearly separable.\n",
    "- C=1 → regularization parameter that balances margin size and classification accuracy.\n",
    "- The model is trained on X_train and y_train, then evaluated on the validation set.\n",
    "- The accuracy score measures how many digits were correctly classified."
   ]
  },
  {
   "cell_type": "code",
   "execution_count": 6,
   "id": "49631fdd",
   "metadata": {},
   "outputs": [
    {
     "name": "stdout",
     "output_type": "stream",
     "text": [
      "Linear Kernel Accuracy: 0.9320238095238095\n"
     ]
    }
   ],
   "source": [
    "from sklearn.svm import SVC\n",
    "from sklearn.metrics import accuracy_score\n",
    "\n",
    "svm_linear = SVC(kernel='linear', C=1)\n",
    "svm_linear.fit(X_train, y_train)\n",
    "y_pred_linear = svm_linear.predict(X_val)\n",
    "\n",
    "print(\"Linear Kernel Accuracy:\", accuracy_score(y_val, y_pred_linear))\n"
   ]
  },
  {
   "cell_type": "markdown",
   "id": "e4d56be0",
   "metadata": {},
   "source": [
    "## 🔁 Train SVM with RBF Kernel\n",
    "Train a non-linear SVM (RBF kernel) to capture complex patterns in the data.\n",
    "- Uses C=10, gamma=0.05 for better fit.\n",
    "- Trained on 5,000 samples for speed, tested on 2,000.\n",
    "- Prints the model’s accuracy."
   ]
  },
  {
   "cell_type": "code",
   "execution_count": 7,
   "id": "269dfbc0",
   "metadata": {},
   "outputs": [
    {
     "name": "stdout",
     "output_type": "stream",
     "text": [
      "RBF Kernel Accuracy: 0.954\n"
     ]
    }
   ],
   "source": [
    "svm_rbf = SVC(kernel='rbf', C=10, gamma=0.05)\n",
    "svm_rbf.fit(X_train[:5000], y_train[:5000])\n",
    "y_pred_rbf = svm_rbf.predict(X_val[:2000])\n",
    "\n",
    "print(\"RBF Kernel Accuracy:\", accuracy_score(y_val[:2000], y_pred_rbf))\n"
   ]
  },
  {
   "cell_type": "markdown",
   "id": "9a02963a",
   "metadata": {},
   "source": [
    "## 📊 Step 10: Evaluate and Visualize Results\n",
    "- Generate a classification report showing precision, recall, and F1-score for each digit.\n",
    "- Also, visualize a few predicted vs. actual digits to see how well the RBF SVM performs."
   ]
  },
  {
   "cell_type": "code",
   "execution_count": 8,
   "id": "5bde224a",
   "metadata": {},
   "outputs": [
    {
     "name": "stdout",
     "output_type": "stream",
     "text": [
      "Classification Report (RBF):\n",
      "              precision    recall  f1-score   support\n",
      "\n",
      "           0       0.98      0.97      0.97       207\n",
      "           1       0.99      0.98      0.98       222\n",
      "           2       0.88      0.96      0.92       214\n",
      "           3       0.97      0.93      0.95       245\n",
      "           4       0.97      0.95      0.96       182\n",
      "           5       0.93      0.98      0.96       156\n",
      "           6       0.97      0.97      0.97       194\n",
      "           7       0.96      0.95      0.96       213\n",
      "           8       0.95      0.91      0.93       184\n",
      "           9       0.94      0.93      0.94       183\n",
      "\n",
      "    accuracy                           0.95      2000\n",
      "   macro avg       0.95      0.95      0.95      2000\n",
      "weighted avg       0.96      0.95      0.95      2000\n",
      "\n"
     ]
    },
    {
     "data": {
      "image/png": "[encoded data removed]",
      "text/plain": [
       "<Figure size 1000x400 with 10 Axes>"
      ]
     },
     "metadata": {},
     "output_type": "display_data"
    }
   ],
   "source": [
    "from sklearn.metrics import classification_report\n",
    "\n",
    "print(\"Classification Report (RBF):\")\n",
    "print(classification_report(y_val[:2000], y_pred_rbf))\n",
    "\n",
    "plt.figure(figsize=(10, 4))\n",
    "for i in range(10):\n",
    "    plt.subplot(2, 5, i+1)\n",
    "    plt.imshow(X_val.iloc[i].values.reshape(28, 28), cmap='gray')\n",
    "    plt.title(f\"Pred: {y_pred_rbf[i]}, True: {y_val.iloc[i]}\")\n",
    "    plt.axis('off')\n",
    "plt.show()\n"
   ]
  },
  {
   "cell_type": "markdown",
   "id": "99bea33e",
   "metadata": {},
   "source": [
    "## ⚡ Train RBF SVM on a Subset\n",
    "To reduce computation time, train the RBF SVM on a smaller subset of 5,000 samples.\n",
    "- Uses C=10, gamma=0.05 for balanced performance.\n",
    "- Evaluates accuracy on the first 2,000 validation samples."
   ]
  },
  {
   "cell_type": "code",
   "execution_count": 17,
   "id": "7443aabd",
   "metadata": {},
   "outputs": [
    {
     "name": "stdout",
     "output_type": "stream",
     "text": [
      "Training SVC(rbf) on subset (5000, 784)\n",
      "RBF subset accuracy (2000 val samples): 0.9545\n"
     ]
    }
   ],
   "source": [
    "# RBF on subset\n",
    "subset_size = 5000\n",
    "X_sub = X_train.iloc[:subset_size]\n",
    "y_sub = y_train.iloc[:subset_size]\n",
    "print('Training SVC(rbf) on subset', X_sub.shape)\n",
    "svm_rbf = SVC(kernel='rbf', C=10, gamma=0.05)\n",
    "svm_rbf.fit(X_sub, y_sub)\n",
    "y_pred_rbf = svm_rbf.predict(X_val.iloc[:2000])\n",
    "print('RBF subset accuracy (2000 val samples):', accuracy_score(y_val.iloc[:2000], y_pred_rbf))\n"
   ]
  },
  {
   "cell_type": "markdown",
   "id": "27aeeefd",
   "metadata": {},
   "source": [
    "## 🔍 Hyperparameter Tuning with GridSearchCV\n",
    "Use GridSearchCV to find the best RBF SVM parameters (C and gamma).\n",
    "- Runs on a smaller subset (3,000 samples) for speed.\n",
    "- Uses 3-fold cross-validation to evaluate combinations.\n",
    "- Prints the best parameters and corresponding score."
   ]
  },
  {
   "cell_type": "code",
   "execution_count": 18,
   "id": "61f3acd3",
   "metadata": {},
   "outputs": [
    {
     "name": "stdout",
     "output_type": "stream",
     "text": [
      "Fitting 3 folds for each of 9 candidates, totalling 27 fits\n",
      "Best params: {'C': 5, 'gamma': 0.01, 'kernel': 'rbf'}\n",
      "Best CV score: 0.9356666666666668\n"
     ]
    }
   ],
   "source": [
    "# GridSearchCV (small subset)\n",
    "param_grid = {'C': [1,5,10], 'gamma':[0.01,0.05,0.1], 'kernel':['rbf']}\n",
    "small = 3000\n",
    "grid = GridSearchCV(SVC(), param_grid, cv=3, n_jobs=-1, verbose=2)\n",
    "grid.fit(X_train.iloc[:small], y_train.iloc[:small])\n",
    "print('Best params:', grid.best_params_)\n",
    "print('Best CV score:', grid.best_score_)\n"
   ]
  },
  {
   "cell_type": "markdown",
   "id": "b7b98199",
   "metadata": {},
   "source": [
    "## 💾 Step 13: Save Trained Models\n",
    "Save the trained SVM models using Joblib best for sk-learn model.\n",
    "- Stores the linear, RBF (subset), and best GridSearch models (if available).\n",
    "- Enables reloading models without retraining."
   ]
  },
  {
   "cell_type": "code",
   "execution_count": 28,
   "id": "c964a7a2",
   "metadata": {},
   "outputs": [
    {
     "name": "stdout",
     "output_type": "stream",
     "text": [
      "Models saved.\n"
     ]
    }
   ],
   "source": [
    "# Save models\n",
    "joblib.dump(lin_clf, 'svm_linear_full.joblib')\n",
    "joblib.dump(svm_rbf, 'svm_rbf_subset.joblib')\n",
    "if hasattr(grid, 'best_estimator_'):\n",
    "    joblib.dump(grid.best_estimator_, 'svm_rbf_grid_best.joblib')\n",
    "print('Models saved.')\n"
   ]
  }
 ],
 "metadata": {
  "kernelspec": {
   "display_name": "venv",
   "language": "python",
   "name": "python3"
  },
  "language_info": {
   "codemirror_mode": {
    "name": "ipython",
    "version": 3
   },
   "file_extension": ".py",
   "mimetype": "text/x-python",
   "name": "python",
   "nbconvert_exporter": "python",
   "pygments_lexer": "ipython3",
   "version": "3.10.0"
  }
 },
 "nbformat": 4,
 "nbformat_minor": 5
}
